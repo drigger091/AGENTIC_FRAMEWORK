{
 "cells": [
  {
   "cell_type": "code",
   "execution_count": 5,
   "id": "d9de9720",
   "metadata": {},
   "outputs": [],
   "source": [
    "import os\n",
    "import os\n",
    "from dotenv import load_dotenv\n",
    "load_dotenv()\n",
    "from langchain.chat_models import init_chat_model\n",
    "\n",
    "from langchain_groq import ChatGroq\n",
    "\n",
    "from langchain.chat_models import init_chat_model\n",
    "\n",
    "llm = ChatGroq(model=\"deepseek-r1-distill-llama-70b\")"
   ]
  },
  {
   "cell_type": "code",
   "execution_count": null,
   "id": "b449b798",
   "metadata": {},
   "outputs": [],
   "source": [
    "from typing import Annotated\n",
    "from langchain_tavily import TavilySearch\n",
    "from lancgchain_core.tools import Tool\n",
    "\n",
    "from typing.extensions import TypedDict\n",
    "from lanchain\n"
   ]
  }
 ],
 "metadata": {
  "kernelspec": {
   "display_name": "agenti_framework",
   "language": "python",
   "name": "python3"
  },
  "language_info": {
   "codemirror_mode": {
    "name": "ipython",
    "version": 3
   },
   "file_extension": ".py",
   "mimetype": "text/x-python",
   "name": "python",
   "nbconvert_exporter": "python",
   "pygments_lexer": "ipython3",
   "version": "3.10.6"
  }
 },
 "nbformat": 4,
 "nbformat_minor": 5
}
