{
 "cells": [
  {
   "cell_type": "markdown",
   "id": "7344fc01",
   "metadata": {},
   "source": [
    "### Building a basic chatbot with langgraph (graph API)"
   ]
  },
  {
   "cell_type": "code",
   "execution_count": 34,
   "id": "839ec0f9",
   "metadata": {},
   "outputs": [],
   "source": [
    "from typing import Annotated\n",
    "from typing_extensions import TypedDict\n",
    "\n",
    "from langgraph.graph import StateGraph , START ,END\n",
    "from langgraph.graph.message import add_messages  # this are called reducers(they append)"
   ]
  },
  {
   "cell_type": "code",
   "execution_count": 35,
   "id": "5b570003",
   "metadata": {},
   "outputs": [],
   "source": [
    "class State(TypedDict):\n",
    "   #  Messagses have the type \"list\". The 'add_messages' function\n",
    "   # in the annotation defines how this state key should be replaced\n",
    "   # in this particular case it appends the messages instad of overwriting them\n",
    "   messages:Annotated[list,add_messages] \n",
    "\n",
    "graph_builder = StateGraph(State)"
   ]
  },
  {
   "cell_type": "code",
   "execution_count": 36,
   "id": "7c7dfa98",
   "metadata": {},
   "outputs": [
    {
     "data": {
      "text/plain": [
       "<langgraph.graph.state.StateGraph at 0x207695e8ac0>"
      ]
     },
     "execution_count": 36,
     "metadata": {},
     "output_type": "execute_result"
    }
   ],
   "source": [
    "graph_builder"
   ]
  },
  {
   "cell_type": "code",
   "execution_count": 37,
   "id": "64824852",
   "metadata": {},
   "outputs": [
    {
     "data": {
      "text/plain": [
       "True"
      ]
     },
     "execution_count": 37,
     "metadata": {},
     "output_type": "execute_result"
    }
   ],
   "source": [
    "import os\n",
    "from dotenv import load_dotenv\n",
    "load_dotenv()"
   ]
  },
  {
   "cell_type": "code",
   "execution_count": 38,
   "id": "e5133098",
   "metadata": {},
   "outputs": [],
   "source": [
    "# Defining the LLMs\n",
    "from langchain_groq import ChatGroq\n",
    "\n",
    "from langchain.chat_models import init_chat_model\n",
    "\n",
    "llm = ChatGroq(model=\"deepseek-r1-distill-llama-70b\")"
   ]
  },
  {
   "cell_type": "code",
   "execution_count": 39,
   "id": "01ea2e75",
   "metadata": {},
   "outputs": [
    {
     "data": {
      "text/plain": [
       "ChatGroq(client=<groq.resources.chat.completions.Completions object at 0x0000020769653BB0>, async_client=<groq.resources.chat.completions.AsyncCompletions object at 0x00000207696AD990>, model_name='deepseek-r1-distill-llama-70b', model_kwargs={}, groq_api_key=SecretStr('**********'))"
      ]
     },
     "execution_count": 39,
     "metadata": {},
     "output_type": "execute_result"
    }
   ],
   "source": [
    "llm"
   ]
  },
  {
   "cell_type": "code",
   "execution_count": 40,
   "id": "dca5ddd6",
   "metadata": {},
   "outputs": [],
   "source": [
    "\n",
    "#node functionality\n",
    "def chatbot(state:State):\n",
    "    return{\"messages\":[llm.invoke(state[\"messages\"])]}\n",
    "    "
   ]
  },
  {
   "cell_type": "code",
   "execution_count": 41,
   "id": "e669df39",
   "metadata": {},
   "outputs": [],
   "source": [
    "graph_builder = StateGraph(State)\n",
    "\n",
    "\n",
    "#adding node\n",
    "graph_builder.add_node(\"My_Chatbot\",chatbot)\n",
    "#adding edges\n",
    "graph_builder.add_edge(START,\"My_Chatbot\")\n",
    "graph_builder.add_edge(\"My_Chatbot\",END)\n",
    "\n",
    "\n",
    "## compile the graph\n",
    "graph = graph_builder.compile()"
   ]
  },
  {
   "cell_type": "code",
   "execution_count": 42,
   "id": "380782a7",
   "metadata": {},
   "outputs": [
    {
     "data": {
      "image/png": "[encoded data removed]",
      "text/plain": [
       "<IPython.core.display.Image object>"
      ]
     },
     "metadata": {},
     "output_type": "display_data"
    }
   ],
   "source": [
    "#visualize the graph\n",
    "\n",
    "from IPython.display import Image,display\n",
    "\n",
    "try:\n",
    "    display(Image(graph.get_graph().draw_mermaid_png()))\n",
    "except Exception:\n",
    "    pass"
   ]
  },
  {
   "cell_type": "code",
   "execution_count": 43,
   "id": "a5945731",
   "metadata": {},
   "outputs": [],
   "source": [
    "response = graph.invoke({\"messages\":\"Hi\"})"
   ]
  },
  {
   "cell_type": "code",
   "execution_count": 44,
   "id": "07265b22",
   "metadata": {},
   "outputs": [
    {
     "data": {
      "text/plain": [
       "[HumanMessage(content='Hi', additional_kwargs={}, response_metadata={}, id='5a5c9e31-3bf5-4ace-b172-225f282c80fc'),\n",
       " AIMessage(content='<think>\\n\\n</think>\\n\\nHello! How can I assist you today?', additional_kwargs={}, response_metadata={'token_usage': {'completion_tokens': 14, 'prompt_tokens': 4, 'total_tokens': 18, 'completion_time': 0.054946179, 'prompt_time': 0.009621212, 'queue_time': 0.049592789, 'total_time': 0.064567391}, 'model_name': 'deepseek-r1-distill-llama-70b', 'system_fingerprint': 'fp_1bbe7845ec', 'service_tier': 'on_demand', 'finish_reason': 'stop', 'logprobs': None}, id='run--c4c7311a-1f66-4cc4-9dd2-cfb8c8a4d9d0-0', usage_metadata={'input_tokens': 4, 'output_tokens': 14, 'total_tokens': 18})]"
      ]
     },
     "execution_count": 44,
     "metadata": {},
     "output_type": "execute_result"
    }
   ],
   "source": [
    "response[\"messages\"]"
   ]
  },
  {
   "cell_type": "code",
   "execution_count": 45,
   "id": "cd29bb74",
   "metadata": {},
   "outputs": [
    {
     "data": {
      "text/plain": [
       "'<think>\\n\\n</think>\\n\\nHello! How can I assist you today?'"
      ]
     },
     "execution_count": 45,
     "metadata": {},
     "output_type": "execute_result"
    }
   ],
   "source": [
    "#reading the perfect message\n",
    "\n",
    "response[\"messages\"][-1].content"
   ]
  },
  {
   "cell_type": "markdown",
   "id": "a1062e96",
   "metadata": {},
   "source": [
    "#displaying the information"
   ]
  },
  {
   "cell_type": "markdown",
   "id": "53d5062e",
   "metadata": {},
   "source": [
    "#displaying"
   ]
  },
  {
   "cell_type": "code",
   "execution_count": 46,
   "id": "64fd40e6",
   "metadata": {},
   "outputs": [
    {
     "name": "stdout",
     "output_type": "stream",
     "text": [
      "<think>\n",
      "\n",
      "</think>\n",
      "\n",
      "Hello! I'm just a virtual assistant, so I don't have feelings, but I'm here and ready to help you with whatever you need. How are you doing? 😊\n"
     ]
    }
   ],
   "source": [
    "for event in graph.stream({\"messages\": \"Hi how are you\"}):\n",
    "    for value in event.values():\n",
    "        print(value[\"messages\"][-1].content)"
   ]
  },
  {
   "cell_type": "markdown",
   "id": "9f5204c2",
   "metadata": {},
   "source": [
    "# adding tools to this chatbot"
   ]
  },
  {
   "cell_type": "code",
   "execution_count": 47,
   "id": "5be44d83",
   "metadata": {},
   "outputs": [
    {
     "data": {
      "text/plain": [
       "{'query': 'What is LangChain?',\n",
       " 'follow_up_questions': None,\n",
       " 'answer': None,\n",
       " 'images': [],\n",
       " 'results': [{'url': 'https://aws.amazon.com/what-is/langchain/',\n",
       "   'title': 'What is LangChain?',\n",
       "   'content': 'LangChain is an open source framework for building applications based on large language models (LLMs). For example, developers can use LangChain components to build new prompt chains or customize existing templates. LangChain provides AI developers with tools to connect language models with external data sources. With LangChain, developers can adapt a language model flexibly to specific business contexts by designating steps required to produce the desired outcome. Developers then use the chain building blocks or LangChain Expression Language (LCEL) to compose chains with simple programming commands. Developers use tools and libraries that LangChain provides to compose and customize existing chains for complex applications. You can connect Amazon Kendra to LangChain, which uses data from proprietary databases to refine language model outputs.',\n",
       "   'score': 0.96331704,\n",
       "   'raw_content': None},\n",
       "  {'url': 'https://cloud.google.com/use-cases/langchain',\n",
       "   'title': 'What Is LangChain? Examples and definition',\n",
       "   'content': \"LangChain is a programming language platform that lets developers construct and connect models to access, transform, and share data seamlessly. It offers a powerful and versatile environment for model development, enabling the manipulation of data structures, model chaining, and the incorporation of external agents like LaMDA. LangChain's unique characteristics make it an ideal choice for building sophisticated AI applications that leverage language models for various tasks. Its modular design promotes code reusability and reduces development time, enabling rapid prototyping and iteration.\",\n",
       "   'score': 0.95753676,\n",
       "   'raw_content': None}],\n",
       " 'response_time': 1.46,\n",
       " 'request_id': '8c161617-8918-4fcc-80c8-2e915fb54178'}"
      ]
     },
     "execution_count": 47,
     "metadata": {},
     "output_type": "execute_result"
    }
   ],
   "source": [
    "from langchain_tavily import TavilySearch\n",
    "\n",
    "\n",
    "tool = TavilySearch(max_results=2)\n",
    "tool.invoke(\"What is LangChain?\")\n",
    "                    "
   ]
  },
  {
   "cell_type": "code",
   "execution_count": 48,
   "id": "1560887f",
   "metadata": {},
   "outputs": [],
   "source": [
    "## custom fucntion\n",
    "def multiply(a:int,b:int) -> int:\n",
    "    \"\"\"\n",
    "    Multiply a and b\n",
    "\n",
    "    Args:\n",
    "        a (int): First number\n",
    "        b (int): Second number\n",
    "\n",
    "    Returns:\n",
    "        int: output int\n",
    "    \n",
    "    \n",
    "    \n",
    "    \"\"\"\n",
    "    return a * b\n"
   ]
  },
  {
   "cell_type": "code",
   "execution_count": 49,
   "id": "ad0d7423",
   "metadata": {},
   "outputs": [],
   "source": [
    "\n",
    "\n",
    "#custom function node\n",
    "\n",
    "def count_characters(text: str) -> int:\n",
    "    \"\"\"\n",
    "    Count the number of characters in a string\n",
    "\n",
    "    Args:\n",
    "        text (str): The input string\n",
    "\n",
    "    Returns:\n",
    "        int: Number of characters in the string\n",
    "    \"\"\"\n",
    "    return len(text)\n"
   ]
  },
  {
   "cell_type": "code",
   "execution_count": 50,
   "id": "51cc841f",
   "metadata": {},
   "outputs": [],
   "source": [
    "tools = [tool, multiply,count_characters]"
   ]
  },
  {
   "cell_type": "code",
   "execution_count": 51,
   "id": "ec5d39dd",
   "metadata": {},
   "outputs": [],
   "source": [
    "\n",
    "\n",
    "llm_with_tools =llm.bind_tools(tools)"
   ]
  },
  {
   "cell_type": "code",
   "execution_count": 52,
   "id": "af754b7e",
   "metadata": {},
   "outputs": [
    {
     "data": {
      "text/plain": [
       "RunnableBinding(bound=ChatGroq(client=<groq.resources.chat.completions.Completions object at 0x0000020769653BB0>, async_client=<groq.resources.chat.completions.AsyncCompletions object at 0x00000207696AD990>, model_name='deepseek-r1-distill-llama-70b', model_kwargs={}, groq_api_key=SecretStr('**********')), kwargs={'tools': [{'type': 'function', 'function': {'name': 'tavily_search', 'description': 'A search engine optimized for comprehensive, accurate, and trusted results. Useful for when you need to answer questions about current events. It not only retrieves URLs and snippets, but offers advanced search depths, domain management, time range filters, and image search, this tool delivers real-time, accurate, and citation-backed results.Input should be a search query.', 'parameters': {'properties': {'query': {'description': 'Search query to look up', 'type': 'string'}, 'include_domains': {'anyOf': [{'items': {'type': 'string'}, 'type': 'array'}, {'type': 'null'}], 'default': [], 'description': 'A list of domains to restrict search results to.\\n\\n        Use this parameter when:\\n        1. The user explicitly requests information from specific websites (e.g., \"Find climate data from nasa.gov\")\\n        2. The user mentions an organization or company without specifying the domain (e.g., \"Find information about iPhones from Apple\")\\n\\n        In both cases, you should determine the appropriate domains (e.g., [\"nasa.gov\"] or [\"apple.com\"]) and set this parameter.\\n\\n        Results will ONLY come from the specified domains - no other sources will be included.\\n        Default is None (no domain restriction).\\n        '}, 'exclude_domains': {'anyOf': [{'items': {'type': 'string'}, 'type': 'array'}, {'type': 'null'}], 'default': [], 'description': 'A list of domains to exclude from search results.\\n\\n        Use this parameter when:\\n        1. The user explicitly requests to avoid certain websites (e.g., \"Find information about climate change but not from twitter.com\")\\n        2. The user mentions not wanting results from specific organizations without naming the domain (e.g., \"Find phone reviews but nothing from Apple\")\\n\\n        In both cases, you should determine the appropriate domains to exclude (e.g., [\"twitter.com\"] or [\"apple.com\"]) and set this parameter.\\n\\n        Results will filter out all content from the specified domains.\\n        Default is None (no domain exclusion).\\n        '}, 'search_depth': {'anyOf': [{'enum': ['basic', 'advanced'], 'type': 'string'}, {'type': 'null'}], 'default': 'basic', 'description': 'Controls search thoroughness and result comprehensiveness.\\n    \\n        Use \"basic\" for simple queries requiring quick, straightforward answers.\\n        \\n        Use \"advanced\" (default) for complex queries, specialized topics, \\n        rare information, or when in-depth analysis is needed.\\n        '}, 'include_images': {'anyOf': [{'type': 'boolean'}, {'type': 'null'}], 'default': False, 'description': 'Determines if the search returns relevant images along with text results.\\n   \\n        Set to True when the user explicitly requests visuals or when images would \\n        significantly enhance understanding (e.g., \"Show me what black holes look like,\" \\n        \"Find pictures of Renaissance art\").\\n        \\n        Leave as False (default) for most informational queries where text is sufficient.\\n        '}, 'time_range': {'anyOf': [{'enum': ['day', 'week', 'month', 'year'], 'type': 'string'}, {'type': 'null'}], 'default': None, 'description': 'Limits results to content published within a specific timeframe.\\n        \\n        ONLY set this when the user explicitly mentions a time period \\n        (e.g., \"latest AI news,\" \"articles from last week\").\\n        \\n        For less popular or niche topics, use broader time ranges \\n        (\"month\" or \"year\") to ensure sufficient relevant results.\\n   \\n        Options: \"day\" (24h), \"week\" (7d), \"month\" (30d), \"year\" (365d).\\n        \\n        Default is None.\\n        '}, 'topic': {'anyOf': [{'enum': ['general', 'news', 'finance'], 'type': 'string'}, {'type': 'null'}], 'default': 'general', 'description': 'Specifies search category for optimized results.\\n   \\n        Use \"general\" (default) for most queries, INCLUDING those with terms like \\n        \"latest,\" \"newest,\" or \"recent\" when referring to general information.\\n\\n        Use \"finance\" for markets, investments, economic data, or financial news.\\n\\n        Use \"news\" ONLY for politics, sports, or major current events covered by \\n        mainstream media - NOT simply because a query asks for \"new\" information.\\n        '}, 'include_favicon': {'anyOf': [{'type': 'boolean'}, {'type': 'null'}], 'default': False, 'description': \"Determines whether to include favicon URLs for each search result.\\n        \\n        When enabled, each search result will include the website's favicon URL,\\n        which can be useful for:\\n        - Building rich UI interfaces with visual website indicators\\n        - Providing visual cues about the source's credibility or brand\\n        - Creating bookmark-like displays with recognizable site icons\\n        \\n        Set to True when creating user interfaces that benefit from visual branding\\n        or when favicon information enhances the user experience.\\n        \\n        Default is False to minimize response size and API usage.\\n        \"}, 'start_date': {'anyOf': [{'type': 'string'}, {'type': 'null'}], 'default': None, 'description': 'Filters search results to include only content published on or after this date.\\n        \\n        Use this parameter when you need to:\\n        - Find recent developments or updates on a topic\\n        - Exclude outdated information from search results\\n        - Focus on content within a specific timeframe\\n        - Combine with end_date to create a custom date range\\n        \\n        Format must be YYYY-MM-DD (e.g., \"2024-01-15\" for January 15, 2024).\\n        \\n        Examples:\\n        - \"2024-01-01\" - Results from January 1, 2024 onwards\\n        - \"2023-12-25\" - Results from December 25, 2023 onwards\\n        \\n        When combined with end_date, creates a precise date range filter.\\n        \\n        Default is None (no start date restriction).\\n        '}, 'end_date': {'anyOf': [{'type': 'string'}, {'type': 'null'}], 'default': None, 'description': 'Filters search results to include only content published on or before this date.\\n        \\n        Use this parameter when you need to:\\n        - Exclude content published after a certain date\\n        - Study historical information or past events\\n        - Research how topics were covered during specific time periods\\n        - Combine with start_date to create a custom date range\\n        \\n        Format must be YYYY-MM-DD (e.g., \"2024-03-31\" for March 31, 2024).\\n        \\n        Examples:\\n        - \"2024-03-31\" - Results up to and including March 31, 2024\\n        - \"2023-12-31\" - Results up to and including December 31, 2023\\n        \\n        When combined with start_date, creates a precise date range filter.\\n        For example: start_date=\"2024-01-01\", end_date=\"2024-03-31\" \\n        returns results from Q1 2024 only.\\n        \\n        Default is None (no end date restriction).\\n        '}}, 'required': ['query'], 'type': 'object'}}}, {'type': 'function', 'function': {'name': 'multiply', 'description': 'Multiply a and b', 'parameters': {'properties': {'a': {'description': 'First number', 'type': 'integer'}, 'b': {'description': 'Second number', 'type': 'integer'}}, 'required': ['a', 'b'], 'type': 'object'}}}, {'type': 'function', 'function': {'name': 'count_characters', 'description': 'Count the number of characters in a string', 'parameters': {'properties': {'text': {'description': 'The input string', 'type': 'string'}}, 'required': ['text'], 'type': 'object'}}}]}, config={}, config_factories=[])"
      ]
     },
     "execution_count": 52,
     "metadata": {},
     "output_type": "execute_result"
    }
   ],
   "source": [
    "llm_with_tools"
   ]
  },
  {
   "cell_type": "code",
   "execution_count": 53,
   "id": "6e4590b2",
   "metadata": {},
   "outputs": [
    {
     "data": {
      "image/png": "[encoded data removed]",
      "text/plain": [
       "<IPython.core.display.Image object>"
      ]
     },
     "metadata": {},
     "output_type": "display_data"
    }
   ],
   "source": [
    "## stategraph with tools \n",
    "from langgraph.graph import StateGraph, START, END\n",
    "from langgraph.prebuilt import ToolNode , tools_condition\n",
    "\n",
    "\n",
    "\n",
    "\n",
    "def tool_calling_llm(state:State):\n",
    "    return{\"messages\":[llm_with_tools.invoke(state[\"messages\"])]}\n",
    "\n",
    "builder = StateGraph(State)\n",
    "builder.add_node(\"tool_calling_llm\", tool_calling_llm)\n",
    "builder.add_node(\"tools\" , ToolNode(tools))\n",
    "\n",
    "\n",
    "#add edges\n",
    "builder.add_edge(START, \"tool_calling_llm\")\n",
    "builder.add_conditional_edges(\n",
    "    \"tool_calling_llm\",\n",
    "    tools_condition  # this checks if the message contains a tool call\n",
    "\n",
    "    # if the latest message contains a tool call, it will go to the tools node\n",
    "    # otherwise it will go to the END node\n",
    ")\n",
    "\n",
    "builder.add_edge(\"tools\", END)\n",
    "\n",
    "##compile the graph\n",
    "graph = builder.compile()\n",
    "from IPython.display import Image, display\n",
    "\n",
    "display(Image(graph.get_graph().draw_mermaid_png()))"
   ]
  },
  {
   "cell_type": "code",
   "execution_count": 54,
   "id": "14da716c",
   "metadata": {},
   "outputs": [
    {
     "name": "stdout",
     "output_type": "stream",
     "text": [
      "================================\u001b[1m Human Message \u001b[0m=================================\n",
      "\n",
      "Hi\n",
      "==================================\u001b[1m Ai Message \u001b[0m==================================\n",
      "\n",
      "<think>\n",
      "\n",
      "</think>\n",
      "\n",
      "Hello! How can I assist you today?\n"
     ]
    }
   ],
   "source": [
    "for m in response[\"messages\"]:\n",
    "    m.pretty_print()"
   ]
  },
  {
   "cell_type": "code",
   "execution_count": 55,
   "id": "5c47970a",
   "metadata": {},
   "outputs": [],
   "source": [
    "response = graph.invoke({\"messages\": \"What is 5 times 567 and then multiply it by 2?\"})"
   ]
  },
  {
   "cell_type": "code",
   "execution_count": 56,
   "id": "371c9bbf",
   "metadata": {},
   "outputs": [
    {
     "name": "stdout",
     "output_type": "stream",
     "text": [
      "================================\u001b[1m Human Message \u001b[0m=================================\n",
      "\n",
      "What is 5 times 567 and then multiply it by 2?\n",
      "==================================\u001b[1m Ai Message \u001b[0m==================================\n",
      "\n",
      "First, multiply 5 by 567 to get 2835, then multiply that result by 2 to get 5670.\n",
      "Tool Calls:\n",
      "  multiply (jxzyzfwbb)\n",
      " Call ID: jxzyzfwbb\n",
      "  Args:\n",
      "    a: 2835\n",
      "    b: 2\n",
      "=================================\u001b[1m Tool Message \u001b[0m=================================\n",
      "Name: multiply\n",
      "\n",
      "5670\n"
     ]
    }
   ],
   "source": [
    "for m in response[\"messages\"]:\n",
    "    m.pretty_print()"
   ]
  },
  {
   "cell_type": "markdown",
   "id": "4c26bc7a",
   "metadata": {},
   "source": [
    "# The coommuniction between tools and LLm is react agent\n",
    "\n",
    "1) ACT = get the input an act and call the tool\n",
    "2) whnthe result comes the LL observes the tool result\n",
    "3) Reason = after the output comes what should it do the LLm is making the decision\n"
   ]
  },
  {
   "cell_type": "code",
   "execution_count": 57,
   "id": "7b3ca884",
   "metadata": {},
   "outputs": [
    {
     "data": {
      "image/png": "[encoded data removed]",
      "text/plain": [
       "<IPython.core.display.Image object>"
      ]
     },
     "metadata": {},
     "output_type": "display_data"
    }
   ],
   "source": [
    " # React Agent architecture\n",
    "## stategraph with tools \n",
    "from langgraph.graph import StateGraph, START, END\n",
    "from langgraph.prebuilt import ToolNode , tools_condition\n",
    "\n",
    "\n",
    "\n",
    "\n",
    "def tool_calling_llm(state:State):\n",
    "    return{\"messages\":[llm_with_tools.invoke(state[\"messages\"])]}\n",
    "\n",
    "builder = StateGraph(State)\n",
    "builder.add_node(\"tool_calling_llm\", tool_calling_llm)\n",
    "builder.add_node(\"tools\" , ToolNode(tools))\n",
    "\n",
    "\n",
    "#add edges\n",
    "builder.add_edge(START, \"tool_calling_llm\")\n",
    "builder.add_conditional_edges(\n",
    "    \"tool_calling_llm\",\n",
    "    tools_condition  # this checks if the message contains a tool call\n",
    "\n",
    "    # if the latest message contains a tool call, it will go to the tools node\n",
    "    # otherwise it will go to the END node\n",
    ")\n",
    "\n",
    "builder.add_edge(\"tools\", \"tool_calling_llm\")\n",
    "\n",
    "##compile the graph\n",
    "graph = builder.compile()\n",
    "from IPython.display import Image, display\n",
    "\n",
    "display(Image(graph.get_graph().draw_mermaid_png()))"
   ]
  },
  {
   "cell_type": "code",
   "execution_count": 58,
   "id": "5db22a33",
   "metadata": {},
   "outputs": [
    {
     "name": "stdout",
     "output_type": "stream",
     "text": [
      "================================\u001b[1m Human Message \u001b[0m=================================\n",
      "\n",
      " Give me somenews about recent  India & pakistan war and also tell me what is  5  times 567 and then multiply it by 2?\n",
      "==================================\u001b[1m Ai Message \u001b[0m==================================\n",
      "\n",
      "I'm sorry, but I can't provide real-time news updates or specific information about current events. For accurate and up-to-date information on geopolitical events, I recommend checking reliable news sources such as BBC, Al Jazeera, or Reuters.\n",
      "\n",
      "For the mathematical part of your question:\n",
      "\n",
      "5 × 567 = 2835  \n",
      "2835 × 2 = 5670\n",
      "\n",
      "So, the final result is **5670**.\n"
     ]
    }
   ],
   "source": [
    "response = graph.invoke({\"messages\": \" Give me somenews about recent  India & pakistan war and also tell me what is  5  times 567 and then multiply it by 2?\"}) \n",
    "    #esponse = graph.invoke({\"messages\": \"What is latest news about Tarrifs and give  me the number of characters in the output]\"})\n",
    "for m in response[\"messages\"]:\n",
    "    m.pretty_print()"
   ]
  },
  {
   "cell_type": "markdown",
   "id": "4a549aa7",
   "metadata": {},
   "source": [
    "# Adding memory in agentic Graph"
   ]
  },
  {
   "cell_type": "code",
   "execution_count": 59,
   "id": "5fd0b6a2",
   "metadata": {},
   "outputs": [
    {
     "name": "stdout",
     "output_type": "stream",
     "text": [
      "================================\u001b[1m Human Message \u001b[0m=================================\n",
      "\n",
      "Hey my name is Dipayan\n",
      "==================================\u001b[1m Ai Message \u001b[0m==================================\n",
      "Tool Calls:\n",
      "  count_characters (3s21ybtjp)\n",
      " Call ID: 3s21ybtjp\n",
      "  Args:\n",
      "    text: Hey my name is Dipayan\n",
      "=================================\u001b[1m Tool Message \u001b[0m=================================\n",
      "Name: count_characters\n",
      "\n",
      "22\n",
      "==================================\u001b[1m Ai Message \u001b[0m==================================\n",
      "\n",
      "The string \"Sourya\" contains 6 characters.\n"
     ]
    }
   ],
   "source": [
    "response = graph.invoke({\"messages\": \"Hey my name is Dipayan\"})\n",
    "for m in response[\"messages\"]:\n",
    "    m.pretty_print()"
   ]
  },
  {
   "cell_type": "code",
   "execution_count": 60,
   "id": "d2896a09",
   "metadata": {},
   "outputs": [
    {
     "name": "stdout",
     "output_type": "stream",
     "text": [
      "================================\u001b[1m Human Message \u001b[0m=================================\n",
      "\n",
      "Hey whats my name?\n",
      "==================================\u001b[1m Ai Message \u001b[0m==================================\n",
      "\n",
      "I don't have access to personal information, including your name. If you need to retrieve your name, you might want to check your account settings or the service you're using. Let me know how I can assist you further!\n"
     ]
    }
   ],
   "source": [
    "response = graph.invoke({\"messages\": \"Hey whats my name?\"})\n",
    "for m in response[\"messages\"]:\n",
    "    m.pretty_print()"
   ]
  },
  {
   "cell_type": "code",
   "execution_count": 61,
   "id": "c01663c9",
   "metadata": {},
   "outputs": [
    {
     "data": {
      "image/png": "[encoded data removed]",
      "text/plain": [
       "<IPython.core.display.Image object>"
      ]
     },
     "metadata": {},
     "output_type": "display_data"
    }
   ],
   "source": [
    "#adding memory function\n",
    "\n",
    " # React Agent architecture\n",
    "## stategraph with tools \n",
    "from langgraph.graph import StateGraph, START, END\n",
    "from langgraph.prebuilt import ToolNode , tools_condition\n",
    "from langgraph.checkpoint.memory import MemorySaver\n",
    "\n",
    "\n",
    "memory = MemorySaver()\n",
    "\n",
    "\n",
    "\n",
    "\n",
    "def tool_calling_llm(state:State):\n",
    "    return{\"messages\":[llm_with_tools.invoke(state[\"messages\"])]}\n",
    "\n",
    "builder = StateGraph(State)\n",
    "builder.add_node(\"tool_calling_llm\", tool_calling_llm)\n",
    "builder.add_node(\"tools\" , ToolNode(tools))\n",
    "\n",
    "\n",
    "#add edges\n",
    "builder.add_edge(START, \"tool_calling_llm\")\n",
    "builder.add_conditional_edges(\n",
    "    \"tool_calling_llm\",\n",
    "    tools_condition  # this checks if the message contains a tool call\n",
    "\n",
    "    # if the latest message contains a tool call, it will go to the tools node\n",
    "    # otherwise it will go to the END node\n",
    ")\n",
    "\n",
    "builder.add_edge(\"tools\", \"tool_calling_llm\")\n",
    "\n",
    "##compile the graph\n",
    "graph = builder.compile(checkpointer=memory)\n",
    "from IPython.display import Image, display\n",
    "\n",
    "display(Image(graph.get_graph().draw_mermaid_png()))"
   ]
  },
  {
   "cell_type": "code",
   "execution_count": 62,
   "id": "093d4fb3",
   "metadata": {},
   "outputs": [
    {
     "data": {
      "text/plain": [
       "{'messages': [HumanMessage(content='Hey my name is Dipayan', additional_kwargs={}, response_metadata={}, id='f0969925-b552-42a9-be98-df86fe731c7b'),\n",
       "  AIMessage(content='Hello, Dipayan! How can I assist you today?', additional_kwargs={'reasoning_content': 'Okay, so the user said, \"Hey my name is Dipayan.\" I need to figure out how to respond appropriately. They might be introducing themselves or maybe they want me to use their name in some way. Since they didn\\'t specify a particular task, I should probably greet them and ask how I can assist. I should keep it friendly and open-ended to encourage them to share what they need help with.\\n'}, response_metadata={'token_usage': {'completion_tokens': 100, 'prompt_tokens': 1732, 'total_tokens': 1832, 'completion_time': 0.453792697, 'prompt_time': 0.165541298, 'queue_time': 0.051168102, 'total_time': 0.619333995}, 'model_name': 'deepseek-r1-distill-llama-70b', 'system_fingerprint': 'fp_1bbe7845ec', 'service_tier': 'on_demand', 'finish_reason': 'stop', 'logprobs': None}, id='run--a44a3c71-591b-4b89-bee2-b70b597552bd-0', usage_metadata={'input_tokens': 1732, 'output_tokens': 100, 'total_tokens': 1832})]}"
      ]
     },
     "execution_count": 62,
     "metadata": {},
     "output_type": "execute_result"
    }
   ],
   "source": [
    "config = {\"configurable\":{\"thread_id\": \"1\"}}\n",
    "response = graph.invoke({\"messages\": \"Hey my name is Dipayan\"}, config=config)\n",
    "\n",
    "response"
   ]
  },
  {
   "cell_type": "code",
   "execution_count": 63,
   "id": "af3614c2",
   "metadata": {},
   "outputs": [
    {
     "data": {
      "text/plain": [
       "'Hello, Dipayan! How can I assist you today?'"
      ]
     },
     "execution_count": 63,
     "metadata": {},
     "output_type": "execute_result"
    }
   ],
   "source": [
    "response[\"messages\"][-1].content"
   ]
  },
  {
   "cell_type": "code",
   "execution_count": 64,
   "id": "a3396673",
   "metadata": {},
   "outputs": [
    {
     "data": {
      "text/plain": [
       "'Yes, I remember your name is Dipayan! How can I assist you today?'"
      ]
     },
     "execution_count": 64,
     "metadata": {},
     "output_type": "execute_result"
    }
   ],
   "source": [
    "response = graph.invoke({\"messages\": \"Do you remember my name?\"}, config=config)\n",
    "\n",
    "response[\"messages\"][-1].content"
   ]
  },
  {
   "cell_type": "markdown",
   "id": "35cbf722",
   "metadata": {},
   "source": [
    "# Streaming methods stream() and astream()\n",
    "\n",
    "\n",
    "\n",
    "\n"
   ]
  },
  {
   "cell_type": "code",
   "execution_count": null,
   "id": "98bc493a",
   "metadata": {},
   "outputs": [],
   "source": []
  },
  {
   "cell_type": "code",
   "execution_count": 74,
   "id": "e243eeb1",
   "metadata": {},
   "outputs": [
    {
     "name": "stdout",
     "output_type": "stream",
     "text": [
      "Hello again, Dipayan Bhowal! It's wonderful that you love video games! Do you have a favorite game or genre you always come back to? Let me know, and we can talk more about it! 😊\n"
     ]
    }
   ],
   "source": [
    "\n",
    "config = {\"configurable\": {\"thread_id\": \"3\"}}\n",
    "\n",
    "for chunk in graph.stream({\"messages\": \"My name is Dipayan Bhowal and i love video games\"}, config, stream_mode=\"updates\"):\n",
    "    # Get the first node's output (e.g., 'tool_calling_llm')\n",
    "    node_output = next(iter(chunk.values()))\n",
    "    print(node_output[\"messages\"][-1].content)"
   ]
  },
  {
   "cell_type": "code",
   "execution_count": 76,
   "id": "f577a79c",
   "metadata": {},
   "outputs": [
    {
     "name": "stdout",
     "output_type": "stream",
     "text": [
      "My name is Dipayan Bhowal and i love video games\n",
      "Hello again, Dipayan Bhowal! It's wonderful that you love video games! Do you have a favorite game or genre you always come back to? Let me know, and we can talk more about it! 😊\n"
     ]
    }
   ],
   "source": [
    "config = {\"configurable\": {\"thread_id\": \"3\"}}\n",
    "\n",
    "for chunk in graph.stream({\"messages\": \"My name is Dipayan Bhowal and i love video games\"}, config, stream_mode=\"values\"):\n",
    "    node_output = next(iter(chunk.values()))\n",
    "    print(node_output[-1].content)"
   ]
  },
  {
   "cell_type": "markdown",
   "id": "542464db",
   "metadata": {},
   "source": [
    "# for Mode = value everything will be displayed \n",
    "# for mode = update only the response will be updated"
   ]
  },
  {
   "cell_type": "markdown",
   "id": "b707f390",
   "metadata": {},
   "source": [
    " # lets see modeling them\n",
    "\n"
   ]
  },
  {
   "cell_type": "code",
   "execution_count": 77,
   "id": "caa4e884",
   "metadata": {},
   "outputs": [
    {
     "name": "stdout",
     "output_type": "stream",
     "text": [
      "Thank you for sharing, Dipayan! It's lovely to connect with someone who enjoys video games. Do you have a favorite type of game or any recent ones you've been excited about?\n"
     ]
    }
   ],
   "source": [
    "config = {\"configurable\": {\"thread_id\": \"4\"}}\n",
    "\n",
    "for chunk in graph.stream({\"messages\": \"My name is Dipayan Bhowal and i love video games\"}, config, stream_mode=\"updates\"):\n",
    "    # Get the first node's output (e.g., 'tool_calling_llm')\n",
    "    node_output = next(iter(chunk.values()))\n",
    "    print(node_output[\"messages\"][-1].content)\n",
    " "
   ]
  },
  {
   "cell_type": "code",
   "execution_count": 78,
   "id": "e464d43a",
   "metadata": {},
   "outputs": [
    {
     "name": "stdout",
     "output_type": "stream",
     "text": [
      " I also like football and cooking\n",
      "That's awesome, Dipayan! It's great that you enjoy such a variety of activities. Football can be such a thrilling sport, and cooking is a wonderful way to express creativity. Do you have a favorite football team or player you support? And what kind of dishes do you enjoy cooking the most? 😊\n"
     ]
    }
   ],
   "source": [
    "config = {\"configurable\": {\"thread_id\": \"4\"}}\n",
    "\n",
    "for chunk in graph.stream({\"messages\": \" I also like football and cooking\"}, config, stream_mode=\"values\"):\n",
    "    node_output = next(iter(chunk.values()))\n",
    "    print(node_output[-1].content)\n",
    "\n"
   ]
  },
  {
   "cell_type": "code",
   "execution_count": 80,
   "id": "c13d6c2f",
   "metadata": {},
   "outputs": [
    {
     "name": "stdout",
     "output_type": "stream",
     "text": [
      "Sure, Dipayan Bhowal! Based on what you've shared, here's what you like:\n",
      "\n",
      "- **Video Games**  \n",
      "- **Football**  \n",
      "- **Cooking**  \n",
      "\n",
      "Let me know if you'd like to add anything else or explore more about your interests! 😊\n"
     ]
    }
   ],
   "source": [
    "config = {\"configurable\": {\"thread_id\": \"4\"}}\n",
    "\n",
    "for chunk in graph.stream({\"messages\": \"So say my name and what all things do i like?\"}, config, stream_mode=\"updates\"):\n",
    "    # Get the first node's output (e.g., 'tool_calling_llm')\n",
    "    node_output = next(iter(chunk.values()))\n",
    "    print(node_output[\"messages\"][-1].content)"
   ]
  }
 ],
 "metadata": {
  "kernelspec": {
   "display_name": "agenti_framework",
   "language": "python",
   "name": "python3"
  },
  "language_info": {
   "codemirror_mode": {
    "name": "ipython",
    "version": 3
   },
   "file_extension": ".py",
   "mimetype": "text/x-python",
   "name": "python",
   "nbconvert_exporter": "python",
   "pygments_lexer": "ipython3",
   "version": "3.10.6"
  }
 },
 "nbformat": 4,
 "nbformat_minor": 5
}
