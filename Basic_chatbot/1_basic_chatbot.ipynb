{
 "cells": [
  {
   "cell_type": "markdown",
   "id": "7344fc01",
   "metadata": {},
   "source": [
    "### Building a basic chatbot with langgraph (graph API)"
   ]
  },
  {
   "cell_type": "code",
   "execution_count": 30,
   "id": "839ec0f9",
   "metadata": {},
   "outputs": [],
   "source": [
    "from typing import Annotated\n",
    "from typing_extensions import TypedDict\n",
    "\n",
    "from langgraph.graph import StateGraph , START ,END\n",
    "from langgraph.graph.message import add_messages  # this are called reducers(they append)"
   ]
  },
  {
   "cell_type": "code",
   "execution_count": 31,
   "id": "5b570003",
   "metadata": {},
   "outputs": [],
   "source": [
    "class State(TypedDict):\n",
    "   #  Messagses have the type \"list\". The 'add_messages' function\n",
    "   # in the annotation defines how this state key should be replaced\n",
    "   # in this particular case it appends the messages instad of overwriting them\n",
    "   messages:Annotated[list,add_messages] \n",
    "\n",
    "graph_builder = StateGraph(State)"
   ]
  },
  {
   "cell_type": "code",
   "execution_count": 32,
   "id": "7c7dfa98",
   "metadata": {},
   "outputs": [
    {
     "data": {
      "text/plain": [
       "<langgraph.graph.state.StateGraph at 0x1eb6243e7a0>"
      ]
     },
     "execution_count": 32,
     "metadata": {},
     "output_type": "execute_result"
    }
   ],
   "source": [
    "graph_builder"
   ]
  },
  {
   "cell_type": "code",
   "execution_count": 33,
   "id": "64824852",
   "metadata": {},
   "outputs": [
    {
     "data": {
      "text/plain": [
       "True"
      ]
     },
     "execution_count": 33,
     "metadata": {},
     "output_type": "execute_result"
    }
   ],
   "source": [
    "import os\n",
    "from dotenv import load_dotenv\n",
    "load_dotenv()"
   ]
  },
  {
   "cell_type": "code",
   "execution_count": 34,
   "id": "e5133098",
   "metadata": {},
   "outputs": [],
   "source": [
    "# Defining the LLMs\n",
    "from langchain_groq import ChatGroq\n",
    "\n",
    "from langchain.chat_models import init_chat_model\n",
    "\n",
    "llm = ChatGroq(model=\"deepseek-r1-distill-llama-70b\")"
   ]
  },
  {
   "cell_type": "code",
   "execution_count": 35,
   "id": "01ea2e75",
   "metadata": {},
   "outputs": [
    {
     "data": {
      "text/plain": [
       "ChatGroq(client=<groq.resources.chat.completions.Completions object at 0x000001EB6243DF00>, async_client=<groq.resources.chat.completions.AsyncCompletions object at 0x000001EB6243D360>, model_name='deepseek-r1-distill-llama-70b', model_kwargs={}, groq_api_key=SecretStr('**********'))"
      ]
     },
     "execution_count": 35,
     "metadata": {},
     "output_type": "execute_result"
    }
   ],
   "source": [
    "llm"
   ]
  },
  {
   "cell_type": "code",
   "execution_count": 36,
   "id": "dca5ddd6",
   "metadata": {},
   "outputs": [],
   "source": [
    "\n",
    "#node functionality\n",
    "def chatbot(state:State):\n",
    "    return{\"messages\":[llm.invoke(state[\"messages\"])]}\n",
    "    "
   ]
  },
  {
   "cell_type": "code",
   "execution_count": 37,
   "id": "e669df39",
   "metadata": {},
   "outputs": [],
   "source": [
    "graph_builder = StateGraph(State)\n",
    "\n",
    "\n",
    "#adding node\n",
    "graph_builder.add_node(\"My_Chatbot\",chatbot)\n",
    "#adding edges\n",
    "graph_builder.add_edge(START,\"My_Chatbot\")\n",
    "graph_builder.add_edge(\"My_Chatbot\",END)\n",
    "\n",
    "\n",
    "## compile the graph\n",
    "graph = graph_builder.compile()"
   ]
  },
  {
   "cell_type": "code",
   "execution_count": 38,
   "id": "380782a7",
   "metadata": {},
   "outputs": [
    {
     "data": {
      "image/png": "[encoded data removed]",
      "text/plain": [
       "<IPython.core.display.Image object>"
      ]
     },
     "metadata": {},
     "output_type": "display_data"
    }
   ],
   "source": [
    "#visualize the graph\n",
    "\n",
    "from IPython.display import Image,display\n",
    "\n",
    "try:\n",
    "    display(Image(graph.get_graph().draw_mermaid_png()))\n",
    "except Exception:\n",
    "    pass"
   ]
  },
  {
   "cell_type": "code",
   "execution_count": 39,
   "id": "a5945731",
   "metadata": {},
   "outputs": [],
   "source": [
    "response = graph.invoke({\"messages\":\"Hi\"})"
   ]
  },
  {
   "cell_type": "code",
   "execution_count": 40,
   "id": "07265b22",
   "metadata": {},
   "outputs": [
    {
     "data": {
      "text/plain": [
       "[HumanMessage(content='Hi', additional_kwargs={}, response_metadata={}, id='3bca010a-09e7-4b6e-8354-6361181bc832'),\n",
       " AIMessage(content='<think>\\n\\n</think>\\n\\nHello! How can I assist you today? 😊', additional_kwargs={}, response_metadata={'token_usage': {'completion_tokens': 16, 'prompt_tokens': 4, 'total_tokens': 20, 'completion_time': 0.071141166, 'prompt_time': 0.00940933, 'queue_time': 0.048239107, 'total_time': 0.080550496}, 'model_name': 'deepseek-r1-distill-llama-70b', 'system_fingerprint': 'fp_1bbe7845ec', 'service_tier': 'on_demand', 'finish_reason': 'stop', 'logprobs': None}, id='run--e2a40068-a536-4892-93d3-edeb5eb675ea-0', usage_metadata={'input_tokens': 4, 'output_tokens': 16, 'total_tokens': 20})]"
      ]
     },
     "execution_count": 40,
     "metadata": {},
     "output_type": "execute_result"
    }
   ],
   "source": [
    "response[\"messages\"]"
   ]
  },
  {
   "cell_type": "code",
   "execution_count": 41,
   "id": "cd29bb74",
   "metadata": {},
   "outputs": [
    {
     "data": {
      "text/plain": [
       "'<think>\\n\\n</think>\\n\\nHello! How can I assist you today? 😊'"
      ]
     },
     "execution_count": 41,
     "metadata": {},
     "output_type": "execute_result"
    }
   ],
   "source": [
    "#reading the perfect message\n",
    "\n",
    "response[\"messages\"][-1].content"
   ]
  },
  {
   "cell_type": "markdown",
   "id": "a1062e96",
   "metadata": {},
   "source": [
    "#displaying the information"
   ]
  },
  {
   "cell_type": "markdown",
   "id": "53d5062e",
   "metadata": {},
   "source": [
    "#displaying"
   ]
  },
  {
   "cell_type": "code",
   "execution_count": 45,
   "id": "64fd40e6",
   "metadata": {},
   "outputs": [
    {
     "name": "stdout",
     "output_type": "stream",
     "text": [
      "<think>\n",
      "\n",
      "</think>\n",
      "\n",
      "Hello! I'm just a virtual assistant, so I don't have feelings, but I'm here and ready to help you with whatever you need. How are you doing? 😊\n"
     ]
    }
   ],
   "source": [
    "for event in graph.stream({\"messages\": \"Hi how are you\"}):\n",
    "    for value in event.values():\n",
    "        print(value[\"messages\"][-1].content)"
   ]
  },
  {
   "cell_type": "markdown",
   "id": "9f5204c2",
   "metadata": {},
   "source": [
    "# adding tools to this chatbot"
   ]
  },
  {
   "cell_type": "code",
   "execution_count": null,
   "id": "5be44d83",
   "metadata": {},
   "outputs": [],
   "source": [
    "  "
   ]
  }
 ],
 "metadata": {
  "kernelspec": {
   "display_name": "agenti_framework",
   "language": "python",
   "name": "python3"
  },
  "language_info": {
   "codemirror_mode": {
    "name": "ipython",
    "version": 3
   },
   "file_extension": ".py",
   "mimetype": "text/x-python",
   "name": "python",
   "nbconvert_exporter": "python",
   "pygments_lexer": "ipython3",
   "version": "3.10.6"
  }
 },
 "nbformat": 4,
 "nbformat_minor": 5
}
