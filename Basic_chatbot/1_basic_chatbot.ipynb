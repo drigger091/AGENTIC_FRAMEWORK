{
 "cells": [
  {
   "cell_type": "markdown",
   "id": "7344fc01",
   "metadata": {},
   "source": [
    "### Building a basic chatbot with langgraph (graph API)"
   ]
  },
  {
   "cell_type": "code",
   "execution_count": 1,
   "id": "839ec0f9",
   "metadata": {},
   "outputs": [],
   "source": [
    "from typing import Annotated\n",
    "from typing_extensions import TypedDict\n",
    "\n",
    "from langgraph.graph import StateGraph , START ,END\n",
    "from langgraph.graph.message import add_messages  # this are called reducers(they append)"
   ]
  },
  {
   "cell_type": "code",
   "execution_count": 2,
   "id": "5b570003",
   "metadata": {},
   "outputs": [],
   "source": [
    "class State(TypedDict):\n",
    "   #  Messagses have the type \"list\". The 'add_messages' function\n",
    "   # in the annotation defines how this state key should be replaced\n",
    "   # in this particular case it appends the messages instad of overwriting them\n",
    "   messages:Annotated[list,add_messages] \n",
    "\n",
    "graph_builder = StateGraph(State)"
   ]
  },
  {
   "cell_type": "code",
   "execution_count": 3,
   "id": "7c7dfa98",
   "metadata": {},
   "outputs": [
    {
     "data": {
      "text/plain": [
       "<langgraph.graph.state.StateGraph at 0x2aa95f1c730>"
      ]
     },
     "execution_count": 3,
     "metadata": {},
     "output_type": "execute_result"
    }
   ],
   "source": [
    "graph_builder"
   ]
  },
  {
   "cell_type": "code",
   "execution_count": 4,
   "id": "64824852",
   "metadata": {},
   "outputs": [
    {
     "data": {
      "text/plain": [
       "True"
      ]
     },
     "execution_count": 4,
     "metadata": {},
     "output_type": "execute_result"
    }
   ],
   "source": [
    "import os\n",
    "from dotenv import load_dotenv\n",
    "load_dotenv()"
   ]
  },
  {
   "cell_type": "code",
   "execution_count": 5,
   "id": "e5133098",
   "metadata": {},
   "outputs": [],
   "source": [
    "# Defining the LLMs\n",
    "from langchain_groq import ChatGroq\n",
    "\n",
    "from langchain.chat_models import init_chat_model\n",
    "\n",
    "llm = ChatGroq(model=\"deepseek-r1-distill-llama-70b\")"
   ]
  },
  {
   "cell_type": "code",
   "execution_count": 6,
   "id": "01ea2e75",
   "metadata": {},
   "outputs": [
    {
     "data": {
      "text/plain": [
       "ChatGroq(client=<groq.resources.chat.completions.Completions object at 0x000002AA98001FC0>, async_client=<groq.resources.chat.completions.AsyncCompletions object at 0x000002AA9802C8E0>, model_name='deepseek-r1-distill-llama-70b', model_kwargs={}, groq_api_key=SecretStr('**********'))"
      ]
     },
     "execution_count": 6,
     "metadata": {},
     "output_type": "execute_result"
    }
   ],
   "source": [
    "llm"
   ]
  },
  {
   "cell_type": "code",
   "execution_count": 7,
   "id": "dca5ddd6",
   "metadata": {},
   "outputs": [],
   "source": [
    "\n",
    "#node functionality\n",
    "def chatbot(state:State):\n",
    "    return{\"messages\":[llm.invoke(state[\"messages\"])]}\n",
    "    "
   ]
  },
  {
   "cell_type": "code",
   "execution_count": 8,
   "id": "e669df39",
   "metadata": {},
   "outputs": [],
   "source": [
    "graph_builder = StateGraph(State)\n",
    "\n",
    "\n",
    "#adding node\n",
    "graph_builder.add_node(\"My_Chatbot\",chatbot)\n",
    "#adding edges\n",
    "graph_builder.add_edge(START,\"My_Chatbot\")\n",
    "graph_builder.add_edge(\"My_Chatbot\",END)\n",
    "\n",
    "\n",
    "## compile the graph\n",
    "graph = graph_builder.compile()"
   ]
  },
  {
   "cell_type": "code",
   "execution_count": 9,
   "id": "380782a7",
   "metadata": {},
   "outputs": [
    {
     "data": {
      "image/png": "[encoded data removed]",
      "text/plain": [
       "<IPython.core.display.Image object>"
      ]
     },
     "metadata": {},
     "output_type": "display_data"
    }
   ],
   "source": [
    "#visualize the graph\n",
    "\n",
    "from IPython.display import Image,display\n",
    "\n",
    "try:\n",
    "    display(Image(graph.get_graph().draw_mermaid_png()))\n",
    "except Exception:\n",
    "    pass"
   ]
  },
  {
   "cell_type": "code",
   "execution_count": 10,
   "id": "a5945731",
   "metadata": {},
   "outputs": [],
   "source": [
    "response = graph.invoke({\"messages\":\"Hi\"})"
   ]
  },
  {
   "cell_type": "code",
   "execution_count": 11,
   "id": "07265b22",
   "metadata": {},
   "outputs": [
    {
     "data": {
      "text/plain": [
       "[HumanMessage(content='Hi', additional_kwargs={}, response_metadata={}, id='652861e9-d8fb-430b-ba23-f020b8d2c2ee'),\n",
       " AIMessage(content='<think>\\n\\n</think>\\n\\nHello! How can I assist you today? 😊', additional_kwargs={}, response_metadata={'token_usage': {'completion_tokens': 16, 'prompt_tokens': 4, 'total_tokens': 20, 'completion_time': 0.06262842, 'prompt_time': 0.009431382, 'queue_time': 0.045458025, 'total_time': 0.072059802}, 'model_name': 'deepseek-r1-distill-llama-70b', 'system_fingerprint': 'fp_1bbe7845ec', 'service_tier': 'on_demand', 'finish_reason': 'stop', 'logprobs': None}, id='run--0f5dfac8-052c-4f49-a591-e6292b75e2b3-0', usage_metadata={'input_tokens': 4, 'output_tokens': 16, 'total_tokens': 20})]"
      ]
     },
     "execution_count": 11,
     "metadata": {},
     "output_type": "execute_result"
    }
   ],
   "source": [
    "response[\"messages\"]"
   ]
  },
  {
   "cell_type": "code",
   "execution_count": 12,
   "id": "cd29bb74",
   "metadata": {},
   "outputs": [
    {
     "data": {
      "text/plain": [
       "'<think>\\n\\n</think>\\n\\nHello! How can I assist you today? 😊'"
      ]
     },
     "execution_count": 12,
     "metadata": {},
     "output_type": "execute_result"
    }
   ],
   "source": [
    "#reading the perfect message\n",
    "\n",
    "response[\"messages\"][-1].content"
   ]
  },
  {
   "cell_type": "markdown",
   "id": "a1062e96",
   "metadata": {},
   "source": [
    "#displaying the information"
   ]
  },
  {
   "cell_type": "markdown",
   "id": "53d5062e",
   "metadata": {},
   "source": [
    "#displaying"
   ]
  },
  {
   "cell_type": "code",
   "execution_count": 13,
   "id": "64fd40e6",
   "metadata": {},
   "outputs": [
    {
     "name": "stdout",
     "output_type": "stream",
     "text": [
      "<think>\n",
      "\n",
      "</think>\n",
      "\n",
      "Hello! I'm just a virtual assistant, so I don't have feelings, but I'm here and ready to help you with whatever you need. How are you doing? 😊\n"
     ]
    }
   ],
   "source": [
    "for event in graph.stream({\"messages\": \"Hi how are you\"}):\n",
    "    for value in event.values():\n",
    "        print(value[\"messages\"][-1].content)"
   ]
  },
  {
   "cell_type": "markdown",
   "id": "9f5204c2",
   "metadata": {},
   "source": [
    "# adding tools to this chatbot"
   ]
  },
  {
   "cell_type": "code",
   "execution_count": 14,
   "id": "5be44d83",
   "metadata": {},
   "outputs": [
    {
     "data": {
      "text/plain": [
       "{'query': 'What is LangChain?',\n",
       " 'follow_up_questions': None,\n",
       " 'answer': None,\n",
       " 'images': [],\n",
       " 'results': [{'url': 'https://www.langchain.com/',\n",
       "   'title': 'LangChain',\n",
       "   'content': \"Image 69 Image 70 Image 71 ###### ORCHESTRATION: ###### Build agents with LangGraph Image 72 Controllable agent orchestration with built-in persistence to handle conversational history, memory, and agent-to-agent collaboration. Image 77###### DEPLOYMENT: ###### Deploy &manage with LangGraph Platform Image 78 Deploy and scale enterprise-grade agents with long-running workflows. Image 79 Image 80 Image 81 Image 82 Image 83 Image 94 Image 95 Image 96 Image 97 Image 98 Image 99 Image 100 Image 101 Image 102 Image 103 Image 104 Image 105 Image 106 Trace using the TypeScript or Python SDK to gain visibility into your agent interactions -- whether you use LangChain's frameworks or not. Image 107 STACK 3:Any agent framework +LangGraph Platform Image 108 Image 112\",\n",
       "   'score': 0.98572,\n",
       "   'raw_content': None},\n",
       "  {'url': 'https://aws.amazon.com/what-is/langchain/',\n",
       "   'title': 'What is LangChain?',\n",
       "   'content': 'If you agree, AWS and approved third parties will also use cookies to provide useful site features, remember your preferences, and display relevant content, including relevant advertising. Amazon EventBridge Serverless event bus for SaaS apps & AWS services What is AWS AWS Developer Center AWS Support AWS Managed Services Become an AWS Partner AWS Managed Services AWS Support AWS Support AWS Managed Services AWS Profile Explore Generative AI Services Build, deploy, and run generative AI applications on AWS LangChain provides AI developers with tools to connect language models with external data sources. You can connect Amazon Kendra to LangChain, which uses data from proprietary databases to refine language model outputs. Learn About AWS What Is AWS? Resources for AWS AWS Partners Developers on AWS',\n",
       "   'score': 0.98452,\n",
       "   'raw_content': None}],\n",
       " 'response_time': 1.4}"
      ]
     },
     "execution_count": 14,
     "metadata": {},
     "output_type": "execute_result"
    }
   ],
   "source": [
    "from langchain_tavily import TavilySearch\n",
    "\n",
    "\n",
    "tool = TavilySearch(max_results=2)\n",
    "tool.invoke(\"What is LangChain?\")\n",
    "                    "
   ]
  },
  {
   "cell_type": "code",
   "execution_count": 15,
   "id": "1560887f",
   "metadata": {},
   "outputs": [],
   "source": [
    "## custom fucntion\n",
    "def multiply(a:int,b:int) -> int:\n",
    "    \"\"\"\n",
    "    Multiply a and b\n",
    "\n",
    "    Args:\n",
    "        a (int): First number\n",
    "        b (int): Second number\n",
    "\n",
    "    Returns:\n",
    "        int: output int\n",
    "    \n",
    "    \n",
    "    \n",
    "    \"\"\"\n"
   ]
  },
  {
   "cell_type": "code",
   "execution_count": 16,
   "id": "51cc841f",
   "metadata": {},
   "outputs": [],
   "source": [
    "tools = [tool, multiply]"
   ]
  },
  {
   "cell_type": "code",
   "execution_count": 17,
   "id": "ec5d39dd",
   "metadata": {},
   "outputs": [],
   "source": [
    "\n",
    "\n",
    "llm_with_tools =llm.bind_tools(tools)"
   ]
  },
  {
   "cell_type": "code",
   "execution_count": 19,
   "id": "af754b7e",
   "metadata": {},
   "outputs": [
    {
     "data": {
      "text/plain": [
       "RunnableBinding(bound=ChatGroq(client=<groq.resources.chat.completions.Completions object at 0x000002AA98001FC0>, async_client=<groq.resources.chat.completions.AsyncCompletions object at 0x000002AA9802C8E0>, model_name='deepseek-r1-distill-llama-70b', model_kwargs={}, groq_api_key=SecretStr('**********')), kwargs={'tools': [{'type': 'function', 'function': {'name': 'tavily_search', 'description': 'A search engine optimized for comprehensive, accurate, and trusted results. Useful for when you need to answer questions about current events. It not only retrieves URLs and snippets, but offers advanced search depths, domain management, time range filters, and image search, this tool delivers real-time, accurate, and citation-backed results.Input should be a search query.', 'parameters': {'properties': {'query': {'description': 'Search query to look up', 'type': 'string'}, 'include_domains': {'anyOf': [{'items': {'type': 'string'}, 'type': 'array'}, {'type': 'null'}], 'default': [], 'description': 'A list of domains to restrict search results to.\\n\\n        Use this parameter when:\\n        1. The user explicitly requests information from specific websites (e.g., \"Find climate data from nasa.gov\")\\n        2. The user mentions an organization or company without specifying the domain (e.g., \"Find information about iPhones from Apple\")\\n\\n        In both cases, you should determine the appropriate domains (e.g., [\"nasa.gov\"] or [\"apple.com\"]) and set this parameter.\\n\\n        Results will ONLY come from the specified domains - no other sources will be included.\\n        Default is None (no domain restriction).\\n        '}, 'exclude_domains': {'anyOf': [{'items': {'type': 'string'}, 'type': 'array'}, {'type': 'null'}], 'default': [], 'description': 'A list of domains to exclude from search results.\\n\\n        Use this parameter when:\\n        1. The user explicitly requests to avoid certain websites (e.g., \"Find information about climate change but not from twitter.com\")\\n        2. The user mentions not wanting results from specific organizations without naming the domain (e.g., \"Find phone reviews but nothing from Apple\")\\n\\n        In both cases, you should determine the appropriate domains to exclude (e.g., [\"twitter.com\"] or [\"apple.com\"]) and set this parameter.\\n\\n        Results will filter out all content from the specified domains.\\n        Default is None (no domain exclusion).\\n        '}, 'search_depth': {'anyOf': [{'enum': ['basic', 'advanced'], 'type': 'string'}, {'type': 'null'}], 'default': 'basic', 'description': 'Controls search thoroughness and result comprehensiveness.\\n    \\n        Use \"basic\" for simple queries requiring quick, straightforward answers.\\n        \\n        Use \"advanced\" (default) for complex queries, specialized topics, \\n        rare information, or when in-depth analysis is needed.\\n        '}, 'include_images': {'anyOf': [{'type': 'boolean'}, {'type': 'null'}], 'default': False, 'description': 'Determines if the search returns relevant images along with text results.\\n   \\n        Set to True when the user explicitly requests visuals or when images would \\n        significantly enhance understanding (e.g., \"Show me what black holes look like,\" \\n        \"Find pictures of Renaissance art\").\\n        \\n        Leave as False (default) for most informational queries where text is sufficient.\\n        '}, 'time_range': {'anyOf': [{'enum': ['day', 'week', 'month', 'year'], 'type': 'string'}, {'type': 'null'}], 'default': None, 'description': 'Limits results to content published within a specific timeframe.\\n        \\n        ONLY set this when the user explicitly mentions a time period \\n        (e.g., \"latest AI news,\" \"articles from last week\").\\n        \\n        For less popular or niche topics, use broader time ranges \\n        (\"month\" or \"year\") to ensure sufficient relevant results.\\n   \\n        Options: \"day\" (24h), \"week\" (7d), \"month\" (30d), \"year\" (365d).\\n        \\n        Default is None.\\n        '}, 'topic': {'anyOf': [{'enum': ['general', 'news', 'finance'], 'type': 'string'}, {'type': 'null'}], 'default': 'general', 'description': 'Specifies search category for optimized results.\\n   \\n        Use \"general\" (default) for most queries, INCLUDING those with terms like \\n        \"latest,\" \"newest,\" or \"recent\" when referring to general information.\\n\\n        Use \"finance\" for markets, investments, economic data, or financial news.\\n\\n        Use \"news\" ONLY for politics, sports, or major current events covered by \\n        mainstream media - NOT simply because a query asks for \"new\" information.\\n        '}, 'include_favicon': {'anyOf': [{'type': 'boolean'}, {'type': 'null'}], 'default': False, 'description': \"Determines whether to include favicon URLs for each search result.\\n        \\n        When enabled, each search result will include the website's favicon URL,\\n        which can be useful for:\\n        - Building rich UI interfaces with visual website indicators\\n        - Providing visual cues about the source's credibility or brand\\n        - Creating bookmark-like displays with recognizable site icons\\n        \\n        Set to True when creating user interfaces that benefit from visual branding\\n        or when favicon information enhances the user experience.\\n        \\n        Default is False to minimize response size and API usage.\\n        \"}, 'start_date': {'anyOf': [{'type': 'string'}, {'type': 'null'}], 'default': None, 'description': 'Filters search results to include only content published on or after this date.\\n        \\n        Use this parameter when you need to:\\n        - Find recent developments or updates on a topic\\n        - Exclude outdated information from search results\\n        - Focus on content within a specific timeframe\\n        - Combine with end_date to create a custom date range\\n        \\n        Format must be YYYY-MM-DD (e.g., \"2024-01-15\" for January 15, 2024).\\n        \\n        Examples:\\n        - \"2024-01-01\" - Results from January 1, 2024 onwards\\n        - \"2023-12-25\" - Results from December 25, 2023 onwards\\n        \\n        When combined with end_date, creates a precise date range filter.\\n        \\n        Default is None (no start date restriction).\\n        '}, 'end_date': {'anyOf': [{'type': 'string'}, {'type': 'null'}], 'default': None, 'description': 'Filters search results to include only content published on or before this date.\\n        \\n        Use this parameter when you need to:\\n        - Exclude content published after a certain date\\n        - Study historical information or past events\\n        - Research how topics were covered during specific time periods\\n        - Combine with start_date to create a custom date range\\n        \\n        Format must be YYYY-MM-DD (e.g., \"2024-03-31\" for March 31, 2024).\\n        \\n        Examples:\\n        - \"2024-03-31\" - Results up to and including March 31, 2024\\n        - \"2023-12-31\" - Results up to and including December 31, 2023\\n        \\n        When combined with start_date, creates a precise date range filter.\\n        For example: start_date=\"2024-01-01\", end_date=\"2024-03-31\" \\n        returns results from Q1 2024 only.\\n        \\n        Default is None (no end date restriction).\\n        '}}, 'required': ['query'], 'type': 'object'}}}, {'type': 'function', 'function': {'name': 'multiply', 'description': 'Multiply a and b', 'parameters': {'properties': {'a': {'description': 'First number', 'type': 'integer'}, 'b': {'description': 'Second number', 'type': 'integer'}}, 'required': ['a', 'b'], 'type': 'object'}}}]}, config={}, config_factories=[])"
      ]
     },
     "execution_count": 19,
     "metadata": {},
     "output_type": "execute_result"
    }
   ],
   "source": [
    "llm_with_tools"
   ]
  },
  {
   "cell_type": "code",
   "execution_count": 23,
   "id": "6e4590b2",
   "metadata": {},
   "outputs": [
    {
     "data": {
      "image/png": "[encoded data removed]",
      "text/plain": [
       "<IPython.core.display.Image object>"
      ]
     },
     "metadata": {},
     "output_type": "display_data"
    }
   ],
   "source": [
    "## stategraph with tools \n",
    "from langgraph.graph import StateGraph, START, END\n",
    "from langgraph.prebuilt import ToolNode , tools_condition\n",
    "\n",
    "\n",
    "\n",
    "\n",
    "def tool_calling_llm(state:State):\n",
    "    return{\"messages\":[llm_with_tools.invoke(state[\"messages\"])]}\n",
    "\n",
    "builder = StateGraph(State)\n",
    "builder.add_node(\"tool_calling_llm\", tool_calling_llm)\n",
    "builder.add_node(\"tools\" , ToolNode(tools))\n",
    "\n",
    "\n",
    "#add edges\n",
    "builder.add_edge(START, \"tool_calling_llm\")\n",
    "builder.add_conditional_edges(\n",
    "    \"tool_calling_llm\",\n",
    "    tools_condition  # this checks if the message contains a tool call\n",
    "\n",
    "    # if the latest message contains a tool call, it will go to the tools node\n",
    "    # otherwise it will go to the END node\n",
    ")\n",
    "\n",
    "builder.add_edge(\"tools\", END)\n",
    "\n",
    "##compile the graph\n",
    "graph = builder.compile()\n",
    "from IPython.display import Image, display\n",
    "\n",
    "display(Image(graph.get_graph().draw_mermaid_png()))"
   ]
  },
  {
   "cell_type": "code",
   "execution_count": 24,
   "id": "1bb75d2b",
   "metadata": {},
   "outputs": [],
   "source": [
    "response = graph.invoke({\"messages\": \"What is latest news about Tarrifs?\"})"
   ]
  },
  {
   "cell_type": "code",
   "execution_count": 25,
   "id": "80a6928c",
   "metadata": {},
   "outputs": [
    {
     "data": {
      "text/plain": [
       "'{\"query\": \"latest news about tariffs\", \"follow_up_questions\": null, \"answer\": null, \"images\": [], \"results\": [{\"url\": \"https://usw.ca/trumps-tariffs-resist-protect-our-jobs-rebuild-our-industries/\", \"title\": \"Trump\\'s tariffs: Resist, protect our jobs, rebuild our industries\", \"content\": \"On March 12, Trump renewed tensions by imposing a 25% surtax on all U.S. steel and aluminum imports, with no exemptions for Canada. On April 3, 25% tariffs were\", \"score\": 0.35602167, \"raw_content\": null}, {\"url\": \"https://www.cnbc.com/2025/08/11/trump-china-tariffs-deadline-extended.html\", \"title\": \"Trump extends China tariff deadline by 90 days - CNBC\", \"content\": \"President Donald Trump has signed an executive order that will prevent U.S. tariffs on Chinese goods from spiking for another 90 days.\", \"score\": 0.27851966, \"raw_content\": null}], \"response_time\": 1.25}'"
      ]
     },
     "execution_count": 25,
     "metadata": {},
     "output_type": "execute_result"
    }
   ],
   "source": [
    "response[\"messages\"][-1].content"
   ]
  },
  {
   "cell_type": "code",
   "execution_count": 26,
   "id": "14da716c",
   "metadata": {},
   "outputs": [
    {
     "name": "stdout",
     "output_type": "stream",
     "text": [
      "================================\u001b[1m Human Message \u001b[0m=================================\n",
      "\n",
      "What is latest news about Tarrifs?\n",
      "==================================\u001b[1m Ai Message \u001b[0m==================================\n",
      "Tool Calls:\n",
      "  tavily_search (jr4qtr7qc)\n",
      " Call ID: jr4qtr7qc\n",
      "  Args:\n",
      "    exclude_domains: ['blogspot.com', 'medium.com']\n",
      "    query: latest news about tariffs\n",
      "    time_range: week\n",
      "=================================\u001b[1m Tool Message \u001b[0m=================================\n",
      "Name: tavily_search\n",
      "\n",
      "{\"query\": \"latest news about tariffs\", \"follow_up_questions\": null, \"answer\": null, \"images\": [], \"results\": [{\"url\": \"https://usw.ca/trumps-tariffs-resist-protect-our-jobs-rebuild-our-industries/\", \"title\": \"Trump's tariffs: Resist, protect our jobs, rebuild our industries\", \"content\": \"On March 12, Trump renewed tensions by imposing a 25% surtax on all U.S. steel and aluminum imports, with no exemptions for Canada. On April 3, 25% tariffs were\", \"score\": 0.35602167, \"raw_content\": null}, {\"url\": \"https://www.cnbc.com/2025/08/11/trump-china-tariffs-deadline-extended.html\", \"title\": \"Trump extends China tariff deadline by 90 days - CNBC\", \"content\": \"President Donald Trump has signed an executive order that will prevent U.S. tariffs on Chinese goods from spiking for another 90 days.\", \"score\": 0.27851966, \"raw_content\": null}], \"response_time\": 1.25}\n"
     ]
    }
   ],
   "source": [
    "for m in response[\"messages\"]:\n",
    "    m.pretty_print()"
   ]
  },
  {
   "cell_type": "code",
   "execution_count": null,
   "id": "5c47970a",
   "metadata": {},
   "outputs": [],
   "source": []
  }
 ],
 "metadata": {
  "kernelspec": {
   "display_name": "agenti_framework",
   "language": "python",
   "name": "python3"
  },
  "language_info": {
   "codemirror_mode": {
    "name": "ipython",
    "version": 3
   },
   "file_extension": ".py",
   "mimetype": "text/x-python",
   "name": "python",
   "nbconvert_exporter": "python",
   "pygments_lexer": "ipython3",
   "version": "3.10.6"
  }
 },
 "nbformat": 4,
 "nbformat_minor": 5
}
